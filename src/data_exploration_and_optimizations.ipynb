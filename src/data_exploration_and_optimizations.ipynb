{
 "cells": [
  {
   "cell_type": "code",
   "execution_count": null,
   "id": "initial_id",
   "metadata": {
    "collapsed": true,
    "is_executing": true
   },
   "outputs": [],
   "source": [
    "import pandas as pd\n",
    "import os"
   ]
  },
  {
   "cell_type": "markdown",
   "source": [
    "# Data directory"
   ],
   "metadata": {
    "collapsed": false
   },
   "id": "5fe211b77f37d705"
  },
  {
   "cell_type": "code",
   "execution_count": null,
   "outputs": [],
   "source": [
    "DATA_DIR = os.path.abspath(os.path.join(os.path.dirname(os.getcwd()), 'data'))"
   ],
   "metadata": {
    "collapsed": false,
    "is_executing": true
   },
   "id": "b9715c5ce3c5f93a"
  },
  {
   "cell_type": "markdown",
   "source": [
    "# Function reads in relevant data."
   ],
   "metadata": {
    "collapsed": false
   },
   "id": "840a0ee2fab7a256"
  },
  {
   "cell_type": "code",
   "execution_count": null,
   "outputs": [],
   "source": [
    "def read_data(read_mode='tsv'):\n",
    "    list_of_dataframes = []\n",
    "    df_temp = None\n",
    "\n",
    "    # List directories in the data directories folder\n",
    "    directories = [d for d in os.listdir(DATA_DIR)]\n",
    "\n",
    "    # Filter directories that end with '.tsv' - not the '.gz' directories\n",
    "    tsv_directories = [d for d in directories if d.endswith('.tsv')]\n",
    "    \n",
    "    # Read relevant files into a list of pandas Dataframe objects\n",
    "    for folder in tsv_directories:\n",
    "        if read_mode == 'tsv':\n",
    "            df_temp = pd.read_csv(f'{DATA_DIR}\\\\{folder}\\\\data.tsv', sep='\\t', low_memory=False)\n",
    "        elif read_mode == 'parquet':\n",
    "            df_temp = pd.read_parquet(f'{DATA_DIR}\\\\{folder}\\\\data.parquet')\n",
    "            \n",
    "        print(f'{DATA_DIR}\\\\{folder}')\n",
    "        list_of_dataframes.append(df_temp)\n",
    "        \n",
    "    return list_of_dataframes, tsv_directories"
   ],
   "metadata": {
    "collapsed": false,
    "is_executing": true
   },
   "id": "48975a4375f41e4b"
  },
  {
   "cell_type": "markdown",
   "source": [
    "### Step 1: Read TSV files in and return a list of dataframes along with the names of directories."
   ],
   "metadata": {
    "collapsed": false
   },
   "id": "16cf31c2e0947fa0"
  },
  {
   "cell_type": "code",
   "execution_count": null,
   "outputs": [],
   "source": [
    "list_dataframes, tsv_directories = read_data(read_mode='tsv')"
   ],
   "metadata": {
    "collapsed": false,
    "is_executing": true
   },
   "id": "ac5b6cfe0a075190"
  },
  {
   "cell_type": "markdown",
   "source": [
    "### Step 2: Rewrite these dataframes to parquet files to lower memory footprint and optimize operations."
   ],
   "metadata": {
    "collapsed": false
   },
   "id": "b11eb8a92a09abe8"
  },
  {
   "cell_type": "code",
   "execution_count": null,
   "outputs": [],
   "source": [
    "for df_temp, file_name in zip(list_dataframes, tsv_directories):\n",
    "    absolute_path_to_file = f'{DATA_DIR}\\\\{file_name}\\\\data.tsv'\n",
    "    df_temp.to_parquet(absolute_path_to_file.replace(\"data.tsv\",'data.parquet'))"
   ],
   "metadata": {
    "collapsed": false,
    "is_executing": true
   },
   "id": "e549bc66993726e"
  },
  {
   "cell_type": "markdown",
   "source": [
    "### Step 3: Restart the Kernel skip running the \"read_data\" function for the tsv above and run this function."
   ],
   "metadata": {
    "collapsed": false
   },
   "id": "772aba396d24c599"
  },
  {
   "cell_type": "code",
   "execution_count": null,
   "outputs": [],
   "source": [
    "list_dataframes, _ = read_data(read_mode='parquet')"
   ],
   "metadata": {
    "collapsed": false,
    "is_executing": true
   },
   "id": "19d2049ddc171807"
  },
  {
   "cell_type": "markdown",
   "source": [
    "### Step 4: There are seven (index 0-6) dataframes in the following list, go through each one to see how tables relate to one another."
   ],
   "metadata": {
    "collapsed": false
   },
   "id": "6e43d020b89fb39a"
  },
  {
   "cell_type": "code",
   "execution_count": null,
   "outputs": [],
   "source": [
    "# Note list 2 and 6 was identified as the most important tables to solve this problem\n",
    "list_dataframes[2].head()"
   ],
   "metadata": {
    "collapsed": false,
    "is_executing": true
   },
   "id": "d0482dcad63fcdc1"
  },
  {
   "cell_type": "code",
   "execution_count": null,
   "outputs": [],
   "source": [],
   "metadata": {
    "collapsed": false,
    "is_executing": true
   },
   "id": "f78ad92b357aa02c"
  }
 ],
 "metadata": {
  "kernelspec": {
   "display_name": "Python 3",
   "language": "python",
   "name": "python3"
  },
  "language_info": {
   "codemirror_mode": {
    "name": "ipython",
    "version": 2
   },
   "file_extension": ".py",
   "mimetype": "text/x-python",
   "name": "python",
   "nbconvert_exporter": "python",
   "pygments_lexer": "ipython2",
   "version": "2.7.6"
  }
 },
 "nbformat": 4,
 "nbformat_minor": 5
}
